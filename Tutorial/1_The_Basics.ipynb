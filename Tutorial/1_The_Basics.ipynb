{
 "cells": [
  {
   "cell_type": "markdown",
   "metadata": {},
   "source": [
    "# Orekit in Python - The Basics"
   ]
  },
  {
   "cell_type": "markdown",
   "metadata": {},
   "source": [
    "Orekit is an open-source library for astrodynamical calculations such as:\n",
    "\n",
    "* Orbit Propagation\n",
    "* Coordinate system transformations\n",
    "* Time systems\n",
    "* Orbit Determination\n",
    "\n",
    "And much more..\n",
    "\n",
    "The orekit webpage can be accessed at http://www.orekit.org.\n"
   ]
  },
  {
   "cell_type": "markdown",
   "metadata": {},
   "source": [
    "## The Java - Python bridge - \"orekit python wrapper\""
   ]
  },
  {
   "cell_type": "markdown",
   "metadata": {},
   "source": [
    "The orekit library is written and executing in java. However for interactive there are some advantages using the Python scientific ecosystem, that gives access to a variety of packages ranging from science to visualization and mapping. With the introduction of Jupyter notebooks, this has been highlighted further when a document based approach can be used, in a simple browser interface."
   ]
  },
  {
   "cell_type": "markdown",
   "metadata": {},
   "source": [
    "## Architecture "
   ]
  },
  {
   "cell_type": "markdown",
   "metadata": {},
   "source": [
    "The architecture of the Orekit_jpype python wrapper is based on the tool jpype, that executes the jvm and provides an interface to the jvm for python. A few helper functions is provided in orekit_jpype for starting up, conversion of format between python and orekit etc. \n",
    "\n",
    "There is another \"classic\" wrapper for orekit based on JCC. If you do not know that you need the JCC version you are very likely better off with the jpype version"
   ]
  },
  {
   "cell_type": "markdown",
   "metadata": {},
   "source": [
    "The following parts are wrapped:\n",
    "  - The [Orekit](https://www.orekit.org/) astrodynamics library is explitly wrapped\n",
    "  - The [Rugged](https://www.orekit.org/rugged/) a sensor to terrain mapping library is also explicitly wrapped\n",
    "  - The needed [Hipparchus](https://www.hipparchus.org/) mathematics libary is explicitly wrapped\n",
    "  - Some selected classes from the java tree is also wrapped, classes that are needed for methods or class initialization\n",
    "\n",
    "A module with some helper files, orekit.pyhelpers, is included for some convertions etc."
   ]
  },
  {
   "cell_type": "markdown",
   "metadata": {},
   "source": [
    "The Python version, or correctly stated the Python Wrapper (it is a pure java orekit that runs in background) has a few areas where there are specific ways to do things, limitations and some quirks. The wrapper is using the jpype tool, which has some small quirks and features that may be good to look into, see jpype webpage."
   ]
  },
  {
   "cell_type": "markdown",
   "metadata": {
    "toc-hr-collapsed": true,
    "toc-nb-collapsed": true
   },
   "source": [
    "# Installation "
   ]
  },
  {
   "cell_type": "markdown",
   "metadata": {},
   "source": [
    "Orekit is a native java library and will run as such, and need a java runtime enviornment (JRE or JDK). A common choice is openjdk. In many cases this is already installed in an operating system, but otherwise google to find a way to install openjdk.\n",
    "\n",
    "The installation of orekit_jpype can be done through pip.\n",
    "\n",
    "      pip install orekit_jpype\n",
    "\n",
    "Or through the newer package manager uv. In this case it is recommended to create a project (like this example repository), and manage the enviroment through uv commands.\n",
    "\n",
    "To get a fresh virtual python environment and run a jupyter notebook for these examples do run:\n",
    "\n",
    "        uv run jupyter lab\n",
    "\n",
    "In the top directory of this repository. All neccessary packages will be installed in a temporary python environment.\n",
    "\n"
   ]
  },
  {
   "cell_type": "markdown",
   "metadata": {},
   "source": [
    "### Getting the orekit-data.zip file "
   ]
  },
  {
   "cell_type": "markdown",
   "metadata": {},
   "source": [
    "Some fundamental parameters are not included in the orekit package, and should be provided separately. Such files are earth orientation parameters, time standards etc. An example collection of such parameters are available on the orekit page (no guaratees, this data should be maintained by the user for any professional usage).\n",
    "\n",
    "The datafile is default accessed in current orekit directory or a path can be supplied. The file can be downloaded from https://gitlab.orekit.org/orekit/orekit-data\n",
    "\n",
    "A convenience function to download this file is included in the orekit package."
   ]
  },
  {
   "cell_type": "markdown",
   "metadata": {},
   "source": [
    "## Setting the Envionment parameters"
   ]
  },
  {
   "cell_type": "markdown",
   "metadata": {},
   "source": [
    "The Orekit wrapper needs a few environment variables to be set. This is automatically done in the conda package when the environment is activated. But it needs to be activated. This can be done through various ways:\n",
    "  - Starting the jupyter notebook, IDE or other through the Anaconda launcher\n",
    "  - Using the conda-wrappers tool to get the environment automatically activated when accessing python.bat\n",
    "  - Manually starting the python from the Anaconda command prompt\n",
    "  - Hardcoding the JCC_JDK and PATH (on windows) environment parameters in your computer setup\n",
    "  ...\n",
    "  \n",
    "Please see the [wiki](https://gitlab.orekit.org/orekit-labs/python-wrapper/-/wikis/installation) for more details "
   ]
  },
  {
   "cell_type": "markdown",
   "metadata": {},
   "source": [
    "# Initiating Orekit in Python"
   ]
  },
  {
   "cell_type": "markdown",
   "metadata": {},
   "source": [
    "Orekit needs to be initiated before used, this starts up the java engine and exposes the orekit classes in python."
   ]
  },
  {
   "cell_type": "markdown",
   "metadata": {},
   "source": [
    "To start up orekit use the initVM() function:"
   ]
  },
  {
   "cell_type": "code",
   "execution_count": 17,
   "metadata": {},
   "outputs": [
    {
     "name": "stdout",
     "output_type": "stream",
     "text": [
      "JVM already started, resuming on started JVM\n",
      "JVM location /usr/lib/jvm/java-21-openjdk-amd64/lib/server/libjvm.so\n",
      "Java version: (21, 0, 4)\n"
     ]
    },
    {
     "ename": "AttributeError",
     "evalue": "module 'orekit_jpype' has no attribute 'getVersion'",
     "output_type": "error",
     "traceback": [
      "\u001b[0;31m---------------------------------------------------------------------------\u001b[0m",
      "\u001b[0;31mAttributeError\u001b[0m                            Traceback (most recent call last)",
      "Cell \u001b[0;32mIn[17], line 6\u001b[0m\n\u001b[1;32m      4\u001b[0m jpype\u001b[38;5;241m.\u001b[39mgetJVMVersion()\n\u001b[1;32m      5\u001b[0m \u001b[38;5;28mprint\u001b[39m (\u001b[38;5;124m'\u001b[39m\u001b[38;5;124mJava version:\u001b[39m\u001b[38;5;124m'\u001b[39m, jpype\u001b[38;5;241m.\u001b[39mgetJVMVersion())\n\u001b[0;32m----> 6\u001b[0m \u001b[38;5;28mprint\u001b[39m (\u001b[38;5;124m'\u001b[39m\u001b[38;5;124mOrekit version:\u001b[39m\u001b[38;5;124m'\u001b[39m, \u001b[43morekit_jpype\u001b[49m\u001b[38;5;241;43m.\u001b[39;49m\u001b[43mgetVersion\u001b[49m())\n",
      "\u001b[0;31mAttributeError\u001b[0m: module 'orekit_jpype' has no attribute 'getVersion'"
     ]
    }
   ],
   "source": [
    "import orekit_jpype, jpype\n",
    "vm = orekit_jpype.initVM()\n",
    "print ('JVM location', jpype.getDefaultJVMPath())\n",
    "jpype.getJVMVersion()\n",
    "print ('Java version:', jpype.getJVMVersion())\n"
   ]
  },
  {
   "cell_type": "markdown",
   "metadata": {},
   "source": [
    "The orekit library needs a data file with various information on time and earth rotation parameters. This file, called orekit-data.zip is loaded from current dir as default. \n",
    "\n",
    "This routine of setting up these parameters is commonly used in the notebooks, so a python specific function is created for this, setup_orekit_curdir()"
   ]
  },
  {
   "cell_type": "code",
   "execution_count": 2,
   "metadata": {},
   "outputs": [],
   "source": [
    "from orekit_jpype.pyhelpers import setup_orekit_data\n",
    "setup_orekit_data()"
   ]
  },
  {
   "cell_type": "markdown",
   "metadata": {},
   "source": [
    "Now we are set up to import and use objects from the orekit library. With the proper initialization, all objects in the orekit java library is exposed to Python and can be imported using normal Python syntax."
   ]
  },
  {
   "cell_type": "code",
   "execution_count": 3,
   "metadata": {},
   "outputs": [],
   "source": [
    "from org.orekit.utils import Constants"
   ]
  },
  {
   "cell_type": "code",
   "execution_count": 4,
   "metadata": {},
   "outputs": [
    {
     "name": "stdout",
     "output_type": "stream",
     "text": [
      "6378137.0\n"
     ]
    }
   ],
   "source": [
    "print (Constants.WGS84_EARTH_EQUATORIAL_RADIUS)"
   ]
  },
  {
   "cell_type": "markdown",
   "metadata": {},
   "source": [
    "SI base units are used in the library, such as seconds, meter, m/s"
   ]
  },
  {
   "cell_type": "markdown",
   "metadata": {},
   "source": [
    "# Documentation"
   ]
  },
  {
   "cell_type": "markdown",
   "metadata": {},
   "source": [
    "One of the best sources of knowledge about orekit and the Python wrapper is on the orekit forum, https://forum.orekit.org/"
   ]
  },
  {
   "cell_type": "markdown",
   "metadata": {},
   "source": [
    "## Orekit API "
   ]
  },
  {
   "cell_type": "markdown",
   "metadata": {},
   "source": [
    "The Python version of orekit is very closely matching the java version and the API documentation from Java can be used. This documentation is available at https://www.orekit.org/doc-javadoc.html\n",
    "\n"
   ]
  },
  {
   "cell_type": "markdown",
   "metadata": {},
   "source": [
    "In addition to the API documentation there are a number of architecture descriptions, based on the Java syntax but highly applicable to the Python side. See https://www.orekit.org/doc-maven.html\n"
   ]
  },
  {
   "cell_type": "markdown",
   "metadata": {},
   "source": [
    "## Usage of parametric types"
   ]
  },
  {
   "cell_type": "markdown",
   "metadata": {},
   "source": [
    "The Java language has a feature of parametric class definitions and orekit uses this in some areas. These can be managed in Python with the _of(Class) method that sets this."
   ]
  },
  {
   "cell_type": "markdown",
   "metadata": {},
   "source": [
    "Example:"
   ]
  },
  {
   "cell_type": "code",
   "execution_count": null,
   "metadata": {},
   "outputs": [],
   "source": []
  },
  {
   "cell_type": "markdown",
   "metadata": {},
   "source": [
    "## Subclassing Java classes in Python "
   ]
  },
  {
   "cell_type": "markdown",
   "metadata": {},
   "source": [
    "In some use cases it is relevant to subclass a java class for an own implementation. Subclassing of Java classes in Python is possible but some adjustments in Java are needed to the classes that are to be subclassed. Instead of modifying the original orekit classes, specific \"PythonClassName\" classes have been created for interfaces and selected classes.\n",
    "\n",
    "*It should be noted that all PythonClasses that don't have a test case shall be considered experimental*"
   ]
  },
  {
   "cell_type": "markdown",
   "metadata": {},
   "source": [
    "Example:"
   ]
  },
  {
   "cell_type": "code",
   "execution_count": 5,
   "metadata": {},
   "outputs": [
    {
     "ename": "ImportError",
     "evalue": "Failed to import 'org.orekit.propagation.sampling.PythonOrekitFixedStepHandler'",
     "output_type": "error",
     "traceback": [
      "\u001b[0;31m---------------------------------------------------------------------------\u001b[0m",
      "\u001b[0;31mException\u001b[0m                                 Traceback (most recent call last)",
      "File \u001b[0;32morg.jpype.JPypeContext.java\u001b[0m, in \u001b[0;36morg.jpype.JPypeContext.callMethod\u001b[0;34m()\u001b[0m\n",
      "\u001b[0;31mException\u001b[0m: Java Exception",
      "\nThe above exception was the direct cause of the following exception:\n",
      "\u001b[0;31mjava.lang.ClassNotFoundException\u001b[0m          Traceback (most recent call last)",
      "File \u001b[0;32m~/Development/Orekit/orekit_jpype_examples/.venv/lib/python3.12/site-packages/jpype/imports.py:195\u001b[0m, in \u001b[0;36m_JImportLoader.find_spec\u001b[0;34m(self, name, path, target)\u001b[0m\n\u001b[1;32m    193\u001b[0m \u001b[38;5;28;01mtry\u001b[39;00m:\n\u001b[1;32m    194\u001b[0m     \u001b[38;5;66;03m# Use forname because it give better diagnostics\u001b[39;00m\n\u001b[0;32m--> 195\u001b[0m     \u001b[38;5;28mcls\u001b[39m \u001b[38;5;241m=\u001b[39m \u001b[43m_jpype\u001b[49m\u001b[38;5;241;43m.\u001b[39;49m\u001b[43m_java_lang_Class\u001b[49m\u001b[38;5;241;43m.\u001b[39;49m\u001b[43mforName\u001b[49m\u001b[43m(\u001b[49m\u001b[43mname\u001b[49m\u001b[43m,\u001b[49m\u001b[43m \u001b[49m\u001b[38;5;28;43;01mTrue\u001b[39;49;00m\u001b[43m,\u001b[49m\u001b[43m \u001b[49m\u001b[43m_jpype\u001b[49m\u001b[38;5;241;43m.\u001b[39;49m\u001b[43mJPypeClassLoader\u001b[49m\u001b[43m)\u001b[49m\n\u001b[1;32m    197\u001b[0m     \u001b[38;5;66;03m# This code only is hit if an error was not thrown\u001b[39;00m\n",
      "\u001b[0;31mjava.lang.ClassNotFoundException\u001b[0m: java.lang.ClassNotFoundException: org.orekit.propagation.sampling.PythonOrekitFixedStepHandler",
      "\nThe above exception was the direct cause of the following exception:\n",
      "\u001b[0;31mImportError\u001b[0m                               Traceback (most recent call last)",
      "Cell \u001b[0;32mIn[5], line 1\u001b[0m\n\u001b[0;32m----> 1\u001b[0m \u001b[38;5;28;01mfrom\u001b[39;00m \u001b[38;5;21;01morg\u001b[39;00m\u001b[38;5;21;01m.\u001b[39;00m\u001b[38;5;21;01morekit\u001b[39;00m\u001b[38;5;21;01m.\u001b[39;00m\u001b[38;5;21;01mpropagation\u001b[39;00m\u001b[38;5;21;01m.\u001b[39;00m\u001b[38;5;21;01msampling\u001b[39;00m \u001b[38;5;28;01mimport\u001b[39;00m PythonOrekitFixedStepHandler\n",
      "File \u001b[0;32m~/Development/Orekit/orekit_jpype_examples/.venv/lib/python3.12/site-packages/jpype/imports.py:203\u001b[0m, in \u001b[0;36m_JImportLoader.find_spec\u001b[0;34m(self, name, path, target)\u001b[0m\n\u001b[1;32m    201\u001b[0m     \u001b[38;5;66;03m# Not found is acceptable\u001b[39;00m\n\u001b[1;32m    202\u001b[0m     \u001b[38;5;28;01mexcept\u001b[39;00m \u001b[38;5;167;01mException\u001b[39;00m \u001b[38;5;28;01mas\u001b[39;00m ex:\n\u001b[0;32m--> 203\u001b[0m         \u001b[38;5;28;01mraise\u001b[39;00m \u001b[38;5;167;01mImportError\u001b[39;00m(\u001b[38;5;124m\"\u001b[39m\u001b[38;5;124mFailed to import \u001b[39m\u001b[38;5;124m'\u001b[39m\u001b[38;5;132;01m%s\u001b[39;00m\u001b[38;5;124m'\u001b[39m\u001b[38;5;124m\"\u001b[39m \u001b[38;5;241m%\u001b[39m name) \u001b[38;5;28;01mfrom\u001b[39;00m \u001b[38;5;21;01mex\u001b[39;00m\n\u001b[1;32m    205\u001b[0m \u001b[38;5;66;03m# Import the java module\u001b[39;00m\n\u001b[1;32m    206\u001b[0m \u001b[38;5;28;01mreturn\u001b[39;00m _ModuleSpec(name, \u001b[38;5;28mself\u001b[39m)\n",
      "\u001b[0;31mImportError\u001b[0m: Failed to import 'org.orekit.propagation.sampling.PythonOrekitFixedStepHandler'"
     ]
    }
   ],
   "source": [
    "from org.orekit.propagation.sampling import PythonOrekitFixedStepHandler"
   ]
  },
  {
   "cell_type": "code",
   "execution_count": 15,
   "metadata": {},
   "outputs": [],
   "source": [
    "class StepHandler(PythonOrekitFixedStepHandler):\n",
    "    \n",
    "    def __init__(self, my_value):\n",
    "        self.my_value = my_value\n",
    "        super(StepHandler, self).__init__()\n",
    "\n",
    "    def init(self, s0, t, step):\n",
    "        pass\n",
    "\n",
    "    def handleStep(self, state):\n",
    "        # your code goes here that is executed for every step\n",
    "        pass\n",
    "\n",
    "    def finish(self, finalState):\n",
    "        pass\n"
   ]
  },
  {
   "cell_type": "markdown",
   "metadata": {},
   "source": [
    "In the example above, note:\n",
    "\n",
    "  - The class is subclassing a special class, instead of OrekitFixedStepHandler, PythonOrekitFixedStepHandler is used.\n",
    "  - All methods in the class / interface needs to be implemented for java to accept it. If not used, just use a pass statement.\n",
    "  - If a custom __init__ is used, the super needs also to be called to finalize the initialization of the object"
   ]
  },
  {
   "cell_type": "code",
   "execution_count": null,
   "metadata": {},
   "outputs": [],
   "source": []
  },
  {
   "cell_type": "markdown",
   "metadata": {},
   "source": [
    "## Implementation of Java Interfaces in Python "
   ]
  },
  {
   "cell_type": "markdown",
   "metadata": {},
   "source": [
    "The implementation of orekit interfaces in Python is performed in the same way as subclassing, where all interfaces has a corresponding \"Python\" prefixed version that can be subclassed in python in order to implement that interface."
   ]
  },
  {
   "cell_type": "markdown",
   "metadata": {},
   "source": [
    "Example:"
   ]
  },
  {
   "cell_type": "code",
   "execution_count": null,
   "metadata": {},
   "outputs": [],
   "source": []
  },
  {
   "cell_type": "markdown",
   "metadata": {},
   "source": [
    "Note: It is not possible to implement several interfaces to a Python class"
   ]
  },
  {
   "cell_type": "markdown",
   "metadata": {},
   "source": [
    "## init or \\_\\_init\\_\\_ in subclassing"
   ]
  },
  {
   "cell_type": "markdown",
   "metadata": {},
   "source": [
    "The Python function for initializing a class is typically the \\_\\_init\\_\\_(self, ...) method. Several Orekit interfaces and abstract classes have a init() method that is used for similar purposes. In many Interfaces and Abstract classes, the init(...) method needs to be there for it to be an accepted implementation. For the purpose of populating the interface, it is enough in Python to specify an empty method:"
   ]
  },
  {
   "cell_type": "code",
   "execution_count": null,
   "metadata": {},
   "outputs": [],
   "source": [
    "def init(self):\n",
    "    pass"
   ]
  },
  {
   "cell_type": "markdown",
   "metadata": {},
   "source": [
    "In most practical cases when the class is initialized upon creation, it is suitable to use the more Pythonic \\_\\_init\\_\\_ method instead. "
   ]
  },
  {
   "cell_type": "markdown",
   "metadata": {},
   "source": [
    "## Overloaded Methods / Constructors "
   ]
  },
  {
   "cell_type": "code",
   "execution_count": null,
   "metadata": {},
   "outputs": [],
   "source": []
  },
  {
   "cell_type": "code",
   "execution_count": null,
   "metadata": {},
   "outputs": [],
   "source": []
  },
  {
   "cell_type": "markdown",
   "metadata": {},
   "source": [
    "Python does not have overloaded methods / constructors as in Java. For calls to the Java API this is not a problem as the Java side will try to figure out which method / constructor to use. However, when subclassing Java classes in Python that has overloaded methods or constructors, special care is needed."
   ]
  },
  {
   "cell_type": "markdown",
   "metadata": {},
   "source": [
    "For these classes and interfaces where Orekit uses overloaded methods (methods with same name but different parameters) special care needs to be taken in the Python implementation to make sure which method that the java side is calling. This can be done by checking the types of the input parameters, or by counting the number of parameters provided. For example:"
   ]
  },
  {
   "cell_type": "markdown",
   "metadata": {},
   "source": []
  },
  {
   "cell_type": "code",
   "execution_count": 19,
   "metadata": {},
   "outputs": [],
   "source": [
    "from org.orekit.attitudes import PythonGroundPointing\n",
    "from org.orekit.utils import TimeStampedPVCoordinates, TimeStampedFieldPVCoordinates, FieldPVCoordinatesProvider, PVCoordinatesProvider, FieldPVCoordinates, PVCoordinates\n",
    "from typing import Union\n",
    "\n",
    "class TestGroundPointing(PythonGroundPointing):\n",
    "    def getTargetPV(self, pvProv, date, frame) -> Union[TimeStampedPVCoordinates,TimeStampedFieldPVCoordinates]:\n",
    "        match (pvProv):\n",
    "            case FieldPVCoordinatesProvider():\n",
    "                return TimeStampedFieldPVCoordinates(date, FieldPVCoordinates.getZero(date.getField()))\n",
    "            \n",
    "            case PVCoordinatesProvider():\n",
    "                return TimeStampedPVCoordinates(date, PVCoordinates.ZERO)\n",
    "\n",
    "            case _:\n",
    "                raise RuntimeError(f'Not supported type of PVCoordinatesProvider: {type(pvProv).__name__}')\n"
   ]
  },
  {
   "cell_type": "markdown",
   "metadata": {},
   "source": [
    "See full example in test case at: https://github.com/petrushy/orekit_python_artifacts/blob/version-12.0/test/GroundPointingTest.py"
   ]
  },
  {
   "cell_type": "markdown",
   "metadata": {},
   "source": []
  },
  {
   "cell_type": "markdown",
   "metadata": {},
   "source": [
    "## Performance"
   ]
  },
  {
   "cell_type": "markdown",
   "metadata": {},
   "source": [
    "The performance of Python Orekit has not been properly measured compared to a pure Java implementation, but there are performance penalties in the interchange between Python and Java. This interaction reduces the possibility of end-to-end Just-In-Time optimizations. But the effect depends a lot on how it is used, a propagation that is fully performed in the Java side and only configured from the Python side will have a minimal impact - the \"internal\" performance of Orekit is not affected.\n",
    "\n",
    "Frequent callbacks to Python from Java should be avoided for other purposes than prototyping."
   ]
  },
  {
   "cell_type": "markdown",
   "metadata": {},
   "source": [
    "## Pythonic methods "
   ]
  },
  {
   "cell_type": "markdown",
   "metadata": {},
   "source": [
    "Orekit is built with the JCC options to translate Java getters and setters to more \"Pythonic\" class variables. This is performed by detecting .getMethod and .setMethod to simply a .method on the class. Note the change of case as well of first variable. It can be discussed how recommended this is as it provides an addition to the original orekit API. But it can be argued that it does increase readability."
   ]
  },
  {
   "cell_type": "markdown",
   "metadata": {},
   "source": [
    "Example:"
   ]
  },
  {
   "cell_type": "code",
   "execution_count": 20,
   "metadata": {},
   "outputs": [
    {
     "name": "stdout",
     "output_type": "stream",
     "text": [
      "2.0 0.0 0.0\n",
      "2.0 0.0 0.0\n"
     ]
    }
   ],
   "source": [
    "from org.hipparchus.geometry.euclidean.threed import Vector3D\n",
    "a = Vector3D(2.0, 0.0, 0.0)\n",
    "print(a.getX(), a.getY(), a.getZ())\n",
    "print(a.x, a.y, a.z)"
   ]
  },
  {
   "cell_type": "markdown",
   "metadata": {},
   "source": [
    "## Variable number of arguments functions"
   ]
  },
  {
   "cell_type": "markdown",
   "metadata": {},
   "source": [
    "Java and Orekit are for some methods using a variable number of inputs, identified as ... in the API. For example the:\n",
    "\n",
    "    BooleanDetector.andCombine(EventDetector... detectors) \n",
    "    \n",
    "method in Java. To use this in Python, the variable arguments are placed in a list [], like: \n",
    "\n",
    "    BooleanDetector.andCombine([illumination_detector, el_detector])"
   ]
  },
  {
   "cell_type": "code",
   "execution_count": null,
   "metadata": {},
   "outputs": [],
   "source": []
  },
  {
   "cell_type": "markdown",
   "metadata": {},
   "source": [
    "*Petrus Hyvönen, 2024*"
   ]
  },
  {
   "cell_type": "markdown",
   "metadata": {},
   "source": []
  }
 ],
 "metadata": {
  "hide_input": false,
  "kernelspec": {
   "display_name": ".venv",
   "language": "python",
   "name": "python3"
  },
  "language_info": {
   "codemirror_mode": {
    "name": "ipython",
    "version": 3
   },
   "file_extension": ".py",
   "mimetype": "text/x-python",
   "name": "python",
   "nbconvert_exporter": "python",
   "pygments_lexer": "ipython3",
   "version": "3.12.7"
  },
  "toc": {
   "base_numbering": 1,
   "nav_menu": {},
   "number_sections": false,
   "sideBar": true,
   "skip_h1_title": false,
   "title_cell": "Table of Contents",
   "title_sidebar": "Contents",
   "toc_cell": false,
   "toc_position": {},
   "toc_section_display": "block",
   "toc_window_display": true
  },
  "widgets": {
   "state": {},
   "version": "1.1.2"
  }
 },
 "nbformat": 4,
 "nbformat_minor": 4
}
