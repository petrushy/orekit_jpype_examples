{
 "cells": [
  {
   "cell_type": "markdown",
   "metadata": {},
   "source": [
    "# Propagation"
   ]
  },
  {
   "cell_type": "markdown",
   "metadata": {},
   "source": [
    "## Authors\n",
    "\n",
    "Lots of parts are directly from the orekit documentation on [propagation](https://www.orekit.org/site-orekit-latest/architecture/propagation.html), with some updates, simplifications and Pythonification by Petrus Hyvönen, SSC\n",
    "\n",
    "## Learning Goals\n",
    "* *What is an orbit propagator*: What is the background, what types are there, and why\n",
    "* *How do I propagate my satellite*: How is it implemented in Orekit\n",
    "\n",
    "## Keywords\n",
    "orekit, propagation"
   ]
  },
  {
   "cell_type": "code",
   "execution_count": 4,
   "metadata": {},
   "outputs": [],
   "source": [
    "%matplotlib inline\n",
    "\n",
    "from math import radians, degrees"
   ]
  },
  {
   "cell_type": "markdown",
   "metadata": {},
   "source": [
    "Initialize orkit and bring up the python-java interface"
   ]
  },
  {
   "cell_type": "code",
   "execution_count": 5,
   "metadata": {},
   "outputs": [
    {
     "name": "stdout",
     "output_type": "stream",
     "text": [
      "JVM already started, resuming on started JVM\n"
     ]
    }
   ],
   "source": [
    "import orekit_jpype\n",
    "vm = orekit_jpype.initVM()"
   ]
  },
  {
   "cell_type": "markdown",
   "metadata": {},
   "source": [
    "Now set up the pointer to the orekit-data.zip file, using one of the helper files. The file should be in current directory if not specified otherwise."
   ]
  },
  {
   "cell_type": "code",
   "execution_count": 6,
   "metadata": {},
   "outputs": [],
   "source": [
    "from orekit_jpype.pyhelpers import setup_orekit_data, absolutedate_to_datetime\n",
    "setup_orekit_data()"
   ]
  },
  {
   "cell_type": "markdown",
   "metadata": {},
   "source": [
    "Now we are set up to import and use objects from the orekit library. Packages can be imported as they were native Python packages"
   ]
  },
  {
   "cell_type": "markdown",
   "metadata": {},
   "source": [
    "# Propagation "
   ]
  },
  {
   "cell_type": "markdown",
   "metadata": {},
   "source": [
    "Propagation is the prediction of the evolution of a system from an initial state. In Orekit, this initial state is represented by a SpacecraftState, which is a simple container for all needed information : orbit, mass, kinematics, attitude, date, frame etc."
   ]
  },
  {
   "cell_type": "markdown",
   "metadata": {},
   "source": [
    "The method of propagating a satellite orbit can be divided into three categories:\n",
    "\n",
    "- Analytical Propagators: These are based on mathematical analytical models, which commonly does not need so much computing power and are genereally fast but not neccessary precise in complex environments\n",
    "- Numerical Propagators: These propagators are based on a numerical models where forces are integrated over time by a large number of calculations. Can handle complex models of different forces acting on a spacecraft\n",
    "- Semianalytical: Semianalytical combines features of numerical and analytical method to get a good mix of accuracy and efficency."
   ]
  },
  {
   "cell_type": "markdown",
   "metadata": {},
   "source": [
    "# Analytical Propagators "
   ]
  },
  {
   "cell_type": "markdown",
   "metadata": {},
   "source": [
    "In orekit there are a number of analytical propagators.\n"
   ]
  },
  {
   "cell_type": "markdown",
   "metadata": {},
   "source": [
    "## Keplerian Propagator\n",
    "\n",
    "This is a simple propagator that models a Keplerian orbit around a planet, based on the mass of the central body, µ= GM.\n",
    "\n",
    "The [Keplerian Orbit](https://www.orekit.org/site-orekit-latest/apidocs/org/orekit/propagation/analytical/KeplerianPropagator.html) at the orekit documentation API shows the usage. A basic example is:"
   ]
  },
  {
   "cell_type": "code",
   "execution_count": 7,
   "metadata": {},
   "outputs": [],
   "source": [
    "from org.orekit.orbits import KeplerianOrbit, PositionAngleType\n",
    "from org.orekit.propagation.analytical import KeplerianPropagator\n",
    "from org.orekit.time import AbsoluteDate, TimeScalesFactory\n",
    "from org.orekit.utils import Constants\n",
    "from org.orekit.frames import FramesFactory"
   ]
  },
  {
   "cell_type": "code",
   "execution_count": 8,
   "metadata": {},
   "outputs": [],
   "source": [
    "utc = TimeScalesFactory.getUTC()"
   ]
  },
  {
   "cell_type": "code",
   "execution_count": 9,
   "metadata": {},
   "outputs": [
    {
     "data": {
      "text/plain": [
       "<KeplerianOrbit: Keplerian parameters: {a: 6828137.0; e: 0.007322641593160761; i: 86.99999999999999; pa: 20.0; raan: 10.0; v: 0.0;}>"
      ]
     },
     "execution_count": 9,
     "metadata": {},
     "output_type": "execute_result"
    }
   ],
   "source": [
    "ra = 500 * 1000         #  Apogee\n",
    "rp = 400 * 1000         #  Perigee\n",
    "i = radians(87.0)      # inclination\n",
    "omega = radians(20.0)   # perigee argument\n",
    "raan = radians(10.0)  # right ascension of ascending node\n",
    "lv = radians(0.0)    # True anomaly\n",
    "\n",
    "epochDate = AbsoluteDate(2020, 1, 1, 0, 0, 00.000, utc)\n",
    "initialDate = epochDate\n",
    "\n",
    "a = (rp + ra + 2 * Constants.WGS84_EARTH_EQUATORIAL_RADIUS) / 2.0    \n",
    "e = 1.0 - (rp + Constants.WGS84_EARTH_EQUATORIAL_RADIUS) / a\n",
    "\n",
    "## Inertial frame where the satellite is defined\n",
    "inertialFrame = FramesFactory.getEME2000()\n",
    "\n",
    "## Orbit construction as Keplerian\n",
    "initialOrbit = KeplerianOrbit(a, e, i, omega, raan, lv,\n",
    "                              PositionAngleType.TRUE,\n",
    "                              inertialFrame, epochDate, Constants.WGS84_EARTH_MU)\n",
    "initialOrbit"
   ]
  },
  {
   "cell_type": "code",
   "execution_count": 10,
   "metadata": {},
   "outputs": [],
   "source": [
    "propagator = KeplerianPropagator(initialOrbit)"
   ]
  },
  {
   "cell_type": "markdown",
   "metadata": {},
   "source": [
    "We can show the initial state that the propagator will start from:"
   ]
  },
  {
   "cell_type": "code",
   "execution_count": 11,
   "metadata": {},
   "outputs": [
    {
     "data": {
      "text/plain": [
       "<SpacecraftState: SpacecraftState{orbit=Keplerian parameters: {a: 6828137.0; e: 0.007322641593160761; i: 86.99999999999999; pa: 20.0; raan: 10.0; v: 0.0;}, attitude=org.orekit.attitudes.Attitude@4206a205, mass=1000.0, additional={}, additionalDot={}}>"
      ]
     },
     "execution_count": 11,
     "metadata": {},
     "output_type": "execute_result"
    }
   ],
   "source": [
    "propagator.getInitialState()"
   ]
  },
  {
   "cell_type": "markdown",
   "metadata": {},
   "source": [
    "A basic way to execute the propagator is through the propagate(start, end) method. In this example we propagate the orbit for 48 hours from initialDate."
   ]
  },
  {
   "cell_type": "code",
   "execution_count": 12,
   "metadata": {},
   "outputs": [
    {
     "data": {
      "text/plain": [
       "<SpacecraftState: SpacecraftState{orbit=Keplerian parameters: {a: 6828137.0; e: 0.007322641593160761; i: 86.99999999999999; pa: 20.0; raan: 10.0; v: 11077.693471911734;}, attitude=org.orekit.attitudes.Attitude@7f77e91b, mass=1000.0, additional={}, additionalDot={}}>"
      ]
     },
     "execution_count": 12,
     "metadata": {},
     "output_type": "execute_result"
    }
   ],
   "source": [
    "propagator.propagate(initialDate, initialDate.shiftedBy(3600.0 * 48))"
   ]
  },
  {
   "cell_type": "markdown",
   "metadata": {},
   "source": [
    "Note that only one variable changed, which?"
   ]
  },
  {
   "cell_type": "markdown",
   "metadata": {},
   "source": [
    "## Eckstein-Hechler Propagator\n",
    "\n",
    "The Eckstein-Hechler propagator is an analytical propagator that can use a significant more elaborated model of the gravity field, including the J2 to J6 potential zonal coefficients. It uses mean orbital parameters to compute the new position.\n",
    "\n",
    "The EH propagator is only applicable for near circular orbits, typically used for LEO satellites.\n",
    "\n",
    "The [orekit documentation for the EH propagator]() gives more details.\n",
    "\n"
   ]
  },
  {
   "cell_type": "code",
   "execution_count": 13,
   "metadata": {},
   "outputs": [],
   "source": [
    "from org.orekit.propagation.analytical import EcksteinHechlerPropagator\n",
    "from org.orekit.orbits import OrbitType"
   ]
  },
  {
   "cell_type": "code",
   "execution_count": 14,
   "metadata": {},
   "outputs": [],
   "source": [
    "propagator_eh = EcksteinHechlerPropagator(initialOrbit, \n",
    "                                        Constants.EIGEN5C_EARTH_EQUATORIAL_RADIUS,\n",
    "                                        Constants.EIGEN5C_EARTH_MU, Constants.EIGEN5C_EARTH_C20,\n",
    "                                        Constants.EIGEN5C_EARTH_C30, Constants.EIGEN5C_EARTH_C40,\n",
    "                                        Constants.EIGEN5C_EARTH_C50, Constants.EIGEN5C_EARTH_C60)"
   ]
  },
  {
   "cell_type": "code",
   "execution_count": 15,
   "metadata": {},
   "outputs": [
    {
     "data": {
      "text/plain": [
       "<SpacecraftState: SpacecraftState{orbit=Keplerian parameters: {a: 6828137.0; e: 0.007322641593160761; i: 86.99999999999999; pa: 20.0; raan: 10.0; v: 0.0;}, attitude=org.orekit.attitudes.Attitude@2ed0fbae, mass=1000.0, additional={}, additionalDot={}}>"
      ]
     },
     "execution_count": 15,
     "metadata": {},
     "output_type": "execute_result"
    }
   ],
   "source": [
    "propagator_eh.getInitialState()"
   ]
  },
  {
   "cell_type": "code",
   "execution_count": 16,
   "metadata": {},
   "outputs": [
    {
     "data": {
      "text/plain": [
       "<SpacecraftState: SpacecraftState{orbit=Cartesian parameters: {P(3448059.756671113, 245201.3224377685, -5865008.018551109), V(6464.343791453968, 1251.5368589901318, 3906.997373017956)}, attitude=org.orekit.attitudes.Attitude@60611244, mass=1000.0, additional={}, additionalDot={}}>"
      ]
     },
     "execution_count": 16,
     "metadata": {},
     "output_type": "execute_result"
    }
   ],
   "source": [
    "end_state = propagator_eh.propagate(initialDate, initialDate.shiftedBy(3600.0 * 48))\n",
    "end_state"
   ]
  },
  {
   "cell_type": "code",
   "execution_count": 17,
   "metadata": {},
   "outputs": [
    {
     "data": {
      "text/plain": [
       "<KeplerianOrbit: Keplerian parameters: {a: 6815943.425150734; e: 0.006218572256742211; i: 86.9973158885755; pa: 19.79715105757627; raan: 9.17361990206209; v: -79.41646373321589;}>"
      ]
     },
     "execution_count": 17,
     "metadata": {},
     "output_type": "execute_result"
    }
   ],
   "source": [
    "OrbitType.KEPLERIAN.convertType(end_state.getOrbit())"
   ]
  },
  {
   "cell_type": "markdown",
   "metadata": {},
   "source": [
    "## SGP4 / SDP4 Propagator"
   ]
  },
  {
   "cell_type": "markdown",
   "metadata": {},
   "source": [
    "This analytical propagator is dedicated to propagation of Two-Line Elements (TLE)."
   ]
  },
  {
   "cell_type": "markdown",
   "metadata": {},
   "source": [
    "See separate example"
   ]
  },
  {
   "cell_type": "markdown",
   "metadata": {},
   "source": [
    "# Numerical Propagators"
   ]
  },
  {
   "cell_type": "markdown",
   "metadata": {},
   "source": [
    "Numerical propagation is one of the most important parts of the Orekit project. Based on Hipparchus ordinary differential equations integrators, the NumericalPropagator class realizes the interface between space mechanics and mathematical resolutions. Despite its utilization seems daunting on first sight, it is in fact quite straigthforward to use."
   ]
  },
  {
   "cell_type": "markdown",
   "metadata": {},
   "source": [
    "## Simple Propagation of Equation of Motion "
   ]
  },
  {
   "cell_type": "markdown",
   "metadata": {},
   "source": [
    "The mathematical problem to integrate is a dimension-seven time-derivative equations system. The six first elements of the state vector are the orbital parameters, which may be any orbit type (KeplerianOrbit, CircularOrbit, EquinoctialOrbit or CartesianOrbit) in meters and radians, and the last element is the mass in kilograms. It is possible to have more elements in the state vector if AdditionalEquations have been added (typically PartialDerivativesEquations which is an implementation of AdditionalEquations devoted to integration of Jacobian matrices). The time derivatives are computed automatically by the Orekit using the Gauss equations for the first parameters corresponding to the selected orbit type and the flow rate for mass evolution during maneuvers. The user only needs to register the various force models needed for the simulation. Various force models are already available in the library and specialized ones can be added by users easily for specific needs.\n",
    "\n",
    "The integrators (first order integrators) provided by Hipparchus need the state vector at t0, the state vector first time derivative at t0, and then calculates the next step state vector, and asks for the next first time derivative, etc. until it reaches the final asked date. These underlying numerical integrators can also be configured. Typical tuning parameters for adaptive stepsize integrators are the min, max and perhaps start step size as well as the absolute and/or relative errors thresholds. \n",
    "\n",
    "The following code snippet shows a typical setting for Low Earth Orbit propagation:"
   ]
  },
  {
   "cell_type": "markdown",
   "metadata": {},
   "source": [
    "The numerical propagation is based on an integrator with variable step size. These are specified, as other time units in Orekit, in seconds."
   ]
  },
  {
   "cell_type": "code",
   "execution_count": 19,
   "metadata": {},
   "outputs": [],
   "source": [
    "from org.orekit.propagation.numerical import NumericalPropagator\n",
    "from org.hipparchus.ode.nonstiff import DormandPrince853Integrator\n",
    "from org.orekit.propagation import SpacecraftState\n",
    "from org.orekit.bodies import OneAxisEllipsoid\n",
    "from org.orekit.utils import IERSConventions\n",
    "from org.orekit.forces.gravity.potential import GravityFieldFactory\n",
    "from org.orekit.forces.gravity import HolmesFeatherstoneAttractionModel\n",
    "\n",
    "from orekit_jpype import JArray_double"
   ]
  },
  {
   "cell_type": "code",
   "execution_count": 20,
   "metadata": {},
   "outputs": [],
   "source": [
    "minStep = 0.001\n",
    "maxstep = 1000.0\n",
    "initStep = 60.0"
   ]
  },
  {
   "cell_type": "markdown",
   "metadata": {},
   "source": [
    "The spatial tolerance can be specified (meters)"
   ]
  },
  {
   "cell_type": "code",
   "execution_count": 21,
   "metadata": {},
   "outputs": [],
   "source": [
    "positionTolerance = 1.0 "
   ]
  },
  {
   "cell_type": "code",
   "execution_count": 22,
   "metadata": {},
   "outputs": [],
   "source": [
    "tolerances = NumericalPropagator.tolerances(positionTolerance, \n",
    "                                            initialOrbit, \n",
    "                                            initialOrbit.getType())"
   ]
  },
  {
   "cell_type": "markdown",
   "metadata": {},
   "source": [
    "The actual integrator, in this case DormandPrince853, is part of the Hipparchos library. Note that the tolerances needs casting in Python to an array of doubles (floats)."
   ]
  },
  {
   "cell_type": "code",
   "execution_count": 23,
   "metadata": {},
   "outputs": [],
   "source": [
    "integrator = DormandPrince853Integrator(minStep, maxstep, \n",
    "    JArray_double.cast_(tolerances[0]),  # Double array of doubles needs to be casted in Python\n",
    "    JArray_double.cast_(tolerances[1]))\n",
    "integrator.setInitialStepSize(initStep)"
   ]
  },
  {
   "cell_type": "code",
   "execution_count": 24,
   "metadata": {},
   "outputs": [],
   "source": [
    "satellite_mass = 100.0  # The models need a spacecraft mass, unit kg.\n",
    "initialState = SpacecraftState(initialOrbit, satellite_mass) "
   ]
  },
  {
   "cell_type": "code",
   "execution_count": 25,
   "metadata": {},
   "outputs": [],
   "source": [
    "propagator_num = NumericalPropagator(integrator)\n",
    "propagator_num.setOrbitType(OrbitType.CARTESIAN)\n",
    "propagator_num.setInitialState(initialState)"
   ]
  },
  {
   "cell_type": "markdown",
   "metadata": {},
   "source": [
    "For the propagator to make sense it needs some forces acting on the satellite. Here we are adding a gravity field model.\n",
    "\n",
    "For a more detailed propagation, other force models can be added."
   ]
  },
  {
   "cell_type": "code",
   "execution_count": 26,
   "metadata": {},
   "outputs": [],
   "source": [
    "gravityProvider = GravityFieldFactory.getNormalizedProvider(10, 10)\n",
    "propagator_num.addForceModel(HolmesFeatherstoneAttractionModel(FramesFactory.getITRF(IERSConventions.IERS_2010, True), gravityProvider))"
   ]
  },
  {
   "cell_type": "code",
   "execution_count": 27,
   "metadata": {},
   "outputs": [
    {
     "data": {
      "text/plain": [
       "<Orbit: Keplerian parameters: {a: 6828137.0; e: 0.007322641593160761; i: 86.99999999999999; pa: 20.0; raan: 10.0; v: 0.0;}>"
      ]
     },
     "execution_count": 27,
     "metadata": {},
     "output_type": "execute_result"
    }
   ],
   "source": [
    "OrbitType.KEPLERIAN.convertType(propagator_num.getInitialState().getOrbit())"
   ]
  },
  {
   "cell_type": "code",
   "execution_count": 28,
   "metadata": {},
   "outputs": [
    {
     "data": {
      "text/plain": [
       "<SpacecraftState: SpacecraftState{orbit=Cartesian parameters: {P(3448526.581483817, 244918.37251755025, -5864890.887030139), V(6464.092116094485, 1251.1535044696986, 3907.265608060511)}, attitude=org.orekit.attitudes.Attitude@c6da8bb, mass=100.0, additional={}, additionalDot={}}>"
      ]
     },
     "execution_count": 28,
     "metadata": {},
     "output_type": "execute_result"
    }
   ],
   "source": [
    "end_state = propagator_num.propagate(initialDate, initialDate.shiftedBy(3600.0 * 48))\n",
    "end_state"
   ]
  },
  {
   "cell_type": "code",
   "execution_count": 29,
   "metadata": {},
   "outputs": [
    {
     "data": {
      "text/plain": [
       "<Orbit: Keplerian parameters: {a: 6815947.973248041; e: 0.006204183695517765; i: 86.99604801306079; pa: 19.941160022229035; raan: 9.169796935294904; v: -79.556834921506;}>"
      ]
     },
     "execution_count": 29,
     "metadata": {},
     "output_type": "execute_result"
    }
   ],
   "source": [
    "OrbitType.KEPLERIAN.convertType(end_state.getOrbit())  # Note that this is the Osculating orbit!"
   ]
  },
  {
   "cell_type": "code",
   "execution_count": null,
   "metadata": {},
   "outputs": [],
   "source": []
  }
 ],
 "metadata": {
  "kernelspec": {
   "display_name": ".venv",
   "language": "python",
   "name": "python3"
  },
  "language_info": {
   "codemirror_mode": {
    "name": "ipython",
    "version": 3
   },
   "file_extension": ".py",
   "mimetype": "text/x-python",
   "name": "python",
   "nbconvert_exporter": "python",
   "pygments_lexer": "ipython3",
   "version": "3.12.7"
  }
 },
 "nbformat": 4,
 "nbformat_minor": 4
}
