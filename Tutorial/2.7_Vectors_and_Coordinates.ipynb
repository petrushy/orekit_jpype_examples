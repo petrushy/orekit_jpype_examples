{
 "cells": [
  {
   "cell_type": "markdown",
   "metadata": {},
   "source": [
    "# Vectors and Coordinates"
   ]
  },
  {
   "cell_type": "markdown",
   "metadata": {},
   "source": [
    "## Authors\n",
    "Petrus Hyvönen, SSC\n",
    "\n",
    "## Learning Goals\n",
    "* *Define Vectors*: How to define vectors in orekit / hipparchus\n",
    "* *Spherical Coordinates*: How to create Spherical Coordinates and transform them between Cartesian and Spherical \n",
    "\n",
    "## Keywords\n",
    "orekit, hipparchus, Vector3D, SphericalCoordinate"
   ]
  },
  {
   "cell_type": "code",
   "execution_count": 9,
   "metadata": {},
   "outputs": [],
   "source": [
    "%matplotlib inline"
   ]
  },
  {
   "cell_type": "markdown",
   "metadata": {},
   "source": [
    "Initialize orkit and bring up the python-java interface"
   ]
  },
  {
   "cell_type": "code",
   "execution_count": 10,
   "metadata": {},
   "outputs": [
    {
     "name": "stdout",
     "output_type": "stream",
     "text": [
      "JVM already started, resuming on started JVM\n"
     ]
    }
   ],
   "source": [
    "import orekit_jpype\n",
    "vm = orekit_jpype.initVM()"
   ]
  },
  {
   "cell_type": "markdown",
   "metadata": {},
   "source": [
    "Now set up the pointer to the orekit-data.zip file, using one of the helper files. The file should be in current directory if not specified otherwise."
   ]
  },
  {
   "cell_type": "code",
   "execution_count": 11,
   "metadata": {},
   "outputs": [],
   "source": [
    "from orekit_jpype.pyhelpers import setup_orekit_data, absolutedate_to_datetime\n",
    "setup_orekit_data()"
   ]
  },
  {
   "cell_type": "markdown",
   "metadata": {},
   "source": [
    "Now we are set up to import and use objects from the orekit library. Packages can be imported as they were native Python packages"
   ]
  },
  {
   "cell_type": "code",
   "execution_count": 12,
   "metadata": {},
   "outputs": [],
   "source": [
    "from org.hipparchus.geometry.euclidean.threed import Vector3D, SphericalCoordinates"
   ]
  },
  {
   "cell_type": "code",
   "execution_count": 13,
   "metadata": {},
   "outputs": [],
   "source": [
    "from org.orekit.data import DataProvidersManager, ZipJarCrawler\n",
    "from org.orekit.frames import FramesFactory, TopocentricFrame\n",
    "from org.orekit.bodies import OneAxisEllipsoid, GeodeticPoint\n",
    "from org.orekit.time import TimeScalesFactory, AbsoluteDate, DateComponents, TimeComponents\n",
    "from org.orekit.utils import IERSConventions, Constants\n",
    "\n",
    "from org.orekit.propagation.analytical.tle import TLE, TLEPropagator\n",
    "from java.io import File\n",
    "\n",
    "from math import radians, pi, degrees\n",
    "import pandas as pd\n",
    "import numpy as np\n"
   ]
  },
  {
   "cell_type": "markdown",
   "metadata": {},
   "source": [
    "## Vectors and Coordinates\n"
   ]
  },
  {
   "cell_type": "markdown",
   "metadata": {},
   "source": [
    "Vectors in orekit are based on the `Vector3D` class from the hipparchus library (part of the orekit Python wrapper)."
   ]
  },
  {
   "cell_type": "markdown",
   "metadata": {},
   "source": [
    "Note that it needs explicitly to be stated that the input parameters are floats, either by floating point notation or by for example float(10)."
   ]
  },
  {
   "cell_type": "code",
   "execution_count": 14,
   "metadata": {},
   "outputs": [
    {
     "data": {
      "text/plain": [
       "<Vector3D: {10; 0; 0}>"
      ]
     },
     "execution_count": 14,
     "metadata": {},
     "output_type": "execute_result"
    }
   ],
   "source": [
    "a = Vector3D(10.0, 0.0, 0.0)\n",
    "a"
   ]
  },
  {
   "cell_type": "code",
   "execution_count": 15,
   "metadata": {},
   "outputs": [
    {
     "data": {
      "text/plain": [
       "<Vector3D: {-2; 10; 5}>"
      ]
     },
     "execution_count": 15,
     "metadata": {},
     "output_type": "execute_result"
    }
   ],
   "source": [
    "b = Vector3D(-2.0, 10.0, 5.0)\n",
    "b"
   ]
  },
  {
   "cell_type": "markdown",
   "metadata": {},
   "source": [
    "With these vectors a number of fundamental operations can be performed."
   ]
  },
  {
   "cell_type": "code",
   "execution_count": 16,
   "metadata": {},
   "outputs": [
    {
     "data": {
      "text/plain": [
       "<Vector3D: {8; 10; 5}>"
      ]
     },
     "execution_count": 16,
     "metadata": {},
     "output_type": "execute_result"
    }
   ],
   "source": [
    "a.add(b)"
   ]
  },
  {
   "cell_type": "code",
   "execution_count": 17,
   "metadata": {},
   "outputs": [
    {
     "data": {
      "text/plain": [
       "<Vector3D: {12; -10; -5}>"
      ]
     },
     "execution_count": 17,
     "metadata": {},
     "output_type": "execute_result"
    }
   ],
   "source": [
    "a.subtract(b)"
   ]
  },
  {
   "cell_type": "code",
   "execution_count": 18,
   "metadata": {},
   "outputs": [
    {
     "data": {
      "text/plain": [
       "<Vector3D: {100; 0; 0}>"
      ]
     },
     "execution_count": 18,
     "metadata": {},
     "output_type": "execute_result"
    }
   ],
   "source": [
    "a.scalarMultiply(10.0)"
   ]
  },
  {
   "cell_type": "markdown",
   "metadata": {},
   "source": [
    "Note that these are objects that are interfaced through the methods of the class. The normal mathematical + - operators are not available. \n",
    "\n",
    "_See the documentation for [Hipparcus](https://www.hipparchus.org/apidocs/) and the [Vector3D](https://www.hipparchus.org/apidocs/org/hipparchus/geometry/euclidean/threed/Vector3D.html) class._"
   ]
  },
  {
   "cell_type": "markdown",
   "metadata": {},
   "source": [
    "The Vector class has some static helper functions, like the angle between the vectors (in radians):"
   ]
  },
  {
   "cell_type": "code",
   "execution_count": 19,
   "metadata": {},
   "outputs": [
    {
     "data": {
      "text/plain": [
       "100.14210615657399"
      ]
     },
     "execution_count": 19,
     "metadata": {},
     "output_type": "execute_result"
    }
   ],
   "source": [
    "degrees(Vector3D.angle(a,b))"
   ]
  },
  {
   "cell_type": "markdown",
   "metadata": {},
   "source": [
    "Note that vectors are compared using class comparison methods, not the == sign which compares if the objects are the same!"
   ]
  },
  {
   "cell_type": "code",
   "execution_count": 20,
   "metadata": {},
   "outputs": [
    {
     "data": {
      "text/plain": [
       "<Vector3D: {10; 0; 0}>"
      ]
     },
     "execution_count": 20,
     "metadata": {},
     "output_type": "execute_result"
    }
   ],
   "source": [
    "c = Vector3D(10.0, 0.0, 0.0)\n",
    "c"
   ]
  },
  {
   "cell_type": "code",
   "execution_count": 21,
   "metadata": {},
   "outputs": [
    {
     "data": {
      "text/plain": [
       "True"
      ]
     },
     "execution_count": 21,
     "metadata": {},
     "output_type": "execute_result"
    }
   ],
   "source": [
    "c.equals(a)"
   ]
  },
  {
   "cell_type": "code",
   "execution_count": 22,
   "metadata": {},
   "outputs": [
    {
     "data": {
      "text/plain": [
       "True"
      ]
     },
     "execution_count": 22,
     "metadata": {},
     "output_type": "execute_result"
    }
   ],
   "source": [
    "c == a"
   ]
  },
  {
   "cell_type": "markdown",
   "metadata": {},
   "source": [
    "## Spherical Coordinates "
   ]
  },
  {
   "cell_type": "markdown",
   "metadata": {},
   "source": [
    "Quite often in space application we are interested in the spherical coordinates. This is available in the [SphericalCoorindinates](https://www.hipparchus.org/apidocs/org/hipparchus/geometry/euclidean/threed/SphericalCoordinates.html) class."
   ]
  },
  {
   "attachments": {
    "image.png": {
     "image/png": "[encoded data removed]"
    }
   },
   "cell_type": "markdown",
   "metadata": {},
   "source": [
    "The conventions used are the mathematical ones, i.e. spherical coordinates are related to Cartesian coordinates as follows:\n",
    "\n",
    "    x = r cos(θ) sin(Φ)\n",
    "\n",
    "    y = r sin(θ) sin(Φ)\n",
    "\n",
    "    z = r cos(Φ)\n",
    "\n",
    "    r = √(x2+y2+z2)\n",
    "\n",
    "    θ = atan2(y, x)\n",
    "\n",
    "    Φ = acos(z/r)\n",
    "\n",
    "r is the radius, θ (phi) is the azimuthal angle in the x-y plane and Φ (Theta) is the polar (co-latitude) angle. These conventions are different from the conventions used in physics where the meanings of θ and Φ are reversed.\n",
    "\n",
    "![image.png](attachment:image.png)\n",
    "\n",
    "_image from Wikipedia_"
   ]
  },
  {
   "cell_type": "markdown",
   "metadata": {},
   "source": [
    "There are two ways to construct SphericalCoordinates:"
   ]
  },
  {
   "cell_type": "markdown",
   "metadata": {},
   "source": [
    "From angles `SphericalCoordinates(double r, double theta, double phi)`:\n"
   ]
  },
  {
   "cell_type": "code",
   "execution_count": 23,
   "metadata": {},
   "outputs": [
    {
     "data": {
      "text/plain": [
       "<SphericalCoordinates: org.hipparchus.geometry.euclidean.threed.SphericalCoordinates@15d9bc04>"
      ]
     },
     "execution_count": 23,
     "metadata": {},
     "output_type": "execute_result"
    }
   ],
   "source": [
    "s = SphericalCoordinates(10.0, pi, pi/2)\n",
    "s"
   ]
  },
  {
   "cell_type": "markdown",
   "metadata": {},
   "source": [
    "Note that the printout of SphericalCoordinate is limited. Use a print statement instead, here is a helper function:"
   ]
  },
  {
   "cell_type": "code",
   "execution_count": 31,
   "metadata": {},
   "outputs": [],
   "source": [
    "def print_spherical_coordinate(x):\n",
    "    print(f\"r={x.getR():.2f}, Φ={x.getTheta():.2f}, θ={x.getPhi():.2f}\")"
   ]
  },
  {
   "cell_type": "code",
   "execution_count": 32,
   "metadata": {},
   "outputs": [
    {
     "name": "stdout",
     "output_type": "stream",
     "text": [
      "r=10.00, Φ=3.14, θ=1.57\n"
     ]
    }
   ],
   "source": [
    "print_spherical_coordinate(s)"
   ]
  },
  {
   "cell_type": "markdown",
   "metadata": {},
   "source": [
    "Or from an cartesian vector `SphericalCoordinates(Vector3D v)`"
   ]
  },
  {
   "cell_type": "code",
   "execution_count": 33,
   "metadata": {},
   "outputs": [
    {
     "name": "stdout",
     "output_type": "stream",
     "text": [
      "r=11.36, Φ=1.77, θ=1.11\n"
     ]
    }
   ],
   "source": [
    "bs = SphericalCoordinates(b)\n",
    "print_spherical_coordinate(bs)"
   ]
  },
  {
   "cell_type": "markdown",
   "metadata": {},
   "source": [
    "Compare if equal"
   ]
  },
  {
   "cell_type": "code",
   "execution_count": 34,
   "metadata": {},
   "outputs": [
    {
     "data": {
      "text/plain": [
       "False"
      ]
     },
     "execution_count": 34,
     "metadata": {},
     "output_type": "execute_result"
    }
   ],
   "source": [
    "s.equals(bs)"
   ]
  },
  {
   "cell_type": "markdown",
   "metadata": {},
   "source": [
    "Or convert back to cartesian coordinates:"
   ]
  },
  {
   "cell_type": "code",
   "execution_count": 35,
   "metadata": {},
   "outputs": [
    {
     "data": {
      "text/plain": [
       "<Vector3D: {-10; 0; 0}>"
      ]
     },
     "execution_count": 35,
     "metadata": {},
     "output_type": "execute_result"
    }
   ],
   "source": [
    "s.getCartesian()"
   ]
  },
  {
   "cell_type": "markdown",
   "metadata": {},
   "source": [
    "# Exercises "
   ]
  },
  {
   "cell_type": "markdown",
   "metadata": {},
   "source": [
    "The Earth radius is approximately 6378 km at equator. Such constants are available in the orekit module `Constants`. SI units are used."
   ]
  },
  {
   "cell_type": "code",
   "execution_count": 36,
   "metadata": {},
   "outputs": [],
   "source": [
    "from org.orekit.utils import Constants"
   ]
  },
  {
   "cell_type": "code",
   "execution_count": 37,
   "metadata": {},
   "outputs": [
    {
     "data": {
      "text/plain": [
       "6378137.0"
      ]
     },
     "execution_count": 37,
     "metadata": {},
     "output_type": "execute_result"
    }
   ],
   "source": [
    "Constants.WGS84_EARTH_EQUATORIAL_RADIUS"
   ]
  },
  {
   "cell_type": "markdown",
   "metadata": {},
   "source": [
    "Assuming a spherical Earth of equatorial radius, what is the cartesian coordinates for an earth centric earth fixed coordinate system for the town of Kiruna, located at 67.8558° N, 20.2253° E? Note the difference in definition of spherical coordinate systems."
   ]
  },
  {
   "cell_type": "markdown",
   "metadata": {},
   "source": [
    "Answer:"
   ]
  },
  {
   "cell_type": "code",
   "execution_count": null,
   "metadata": {},
   "outputs": [],
   "source": []
  }
 ],
 "metadata": {
  "kernelspec": {
   "display_name": ".venv",
   "language": "python",
   "name": "python3"
  },
  "language_info": {
   "codemirror_mode": {
    "name": "ipython",
    "version": 3
   },
   "file_extension": ".py",
   "mimetype": "text/x-python",
   "name": "python",
   "nbconvert_exporter": "python",
   "pygments_lexer": "ipython3",
   "version": "3.12.7"
  }
 },
 "nbformat": 4,
 "nbformat_minor": 4
}
