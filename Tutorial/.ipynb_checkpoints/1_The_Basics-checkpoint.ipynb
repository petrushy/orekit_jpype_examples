{
 "cells": [
  {
   "cell_type": "markdown",
   "metadata": {},
   "source": [
    "# Orekit in Python - The Basics"
   ]
  },
  {
   "cell_type": "markdown",
   "metadata": {},
   "source": [
    "Orekit is an open-source library for astrodynamical calculations such as:\n",
    "\n",
    "* Orbit Propagation\n",
    "* Coordinate system transformations\n",
    "* Time systems\n",
    "* Orbit Determination\n",
    "\n",
    "And much more..\n",
    "\n",
    "The orekit webpage can be accessed at http://www.orekit.org.\n"
   ]
  },
  {
   "cell_type": "markdown",
   "metadata": {},
   "source": [
    "## The Java - Python bridge - \"orekit python wrapper\""
   ]
  },
  {
   "cell_type": "markdown",
   "metadata": {},
   "source": [
    "The orekit library is written and executing in java. However for interactive there are some advantages using the Python scientific ecosystem, that gives access to a variety of packages ranging from science to visualization and mapping. With the introduction of Jupyter notebooks, this has been highlighted further when a document based approach can be used, in a simple browser interface."
   ]
  },
  {
   "cell_type": "markdown",
   "metadata": {},
   "source": [
    "## Architecture "
   ]
  },
  {
   "cell_type": "markdown",
   "metadata": {},
   "source": [
    "The architecture of the Orekit_jpype python wrapper is based on the tool jpype, that executes the jvm and provides an interface to the jvm for python. A few helper functions is provided in orekit_jpype for starting up, conversion of format between python and orekit etc. \n",
    "\n",
    "There is another \"classic\" wrapper for orekit based on JCC. If you do not know that you need the JCC version you are very likely better off with the jpype version"
   ]
  },
  {
   "cell_type": "markdown",
   "metadata": {},
   "source": [
    "The following parts are wrapped:\n",
    "  - The [Orekit](https://www.orekit.org/) astrodynamics library is explitly wrapped\n",
    "  - The [Rugged](https://www.orekit.org/rugged/) a sensor to terrain mapping library. This is currently excluded since version 13 to be included when it is updated again.\n",
    "  - The needed [Hipparchus](https://www.hipparchus.org/) mathematics libary is explicitly wrapped\n",
    "  - Some selected classes from the java tree is also wrapped, classes that are needed for methods or class initialization\n",
    "\n",
    "A module with some helper files, orekit.pyhelpers, is included for some convertions etc."
   ]
  },
  {
   "cell_type": "markdown",
   "metadata": {},
   "source": [
    "The Python version, or correctly stated the Python Wrapper (it is a pure java orekit that runs in background) has a few areas where there are specific ways to do things, limitations and some quirks. The wrapper is using the jpype tool, which has some small quirks and features that may be good to look into, see jpype webpage."
   ]
  },
  {
   "cell_type": "markdown",
   "metadata": {
    "toc-hr-collapsed": true,
    "toc-nb-collapsed": true
   },
   "source": [
    "# Installation "
   ]
  },
  {
   "cell_type": "markdown",
   "metadata": {},
   "source": [
    "Orekit is a native java library and will run as such, and need a java runtime enviornment (JRE or JDK). A common choice is openjdk. In many cases this is already installed in an operating system, but otherwise google to find a way to install openjdk.\n",
    "\n",
    "The installation of orekit_jpype can be done through pip.\n",
    "\n",
    "      pip install orekit_jpype\n",
    "\n",
    "Or through the newer package manager uv. In this case it is recommended to create a project (like this example repository), and manage the enviroment through uv commands.\n",
    "\n",
    "To get a fresh virtual python environment and run a jupyter notebook for these examples do run, in the top directory of this project:\n",
    "\n",
    "        uv run jupyter lab\n",
    "\n",
    "All neccessary packages will be installed in a temporary python environment.\n",
    "\n"
   ]
  },
  {
   "cell_type": "markdown",
   "metadata": {},
   "source": [
    "### Getting the orekit-data.zip file "
   ]
  },
  {
   "cell_type": "markdown",
   "metadata": {},
   "source": [
    "Some fundamental parameters are not included in the orekit package, and should be provided separately. Such files are earth orientation parameters, time standards etc. An example collection of such parameters are available on the orekit page (no guaratees, this data should be maintained by the user for any professional usage).\n",
    "\n",
    "The datafile is default accessed in current orekit directory or a path can be supplied. The file can be downloaded from https://gitlab.orekit.org/orekit/orekit-data\n",
    "\n",
    "A convenience function to download this file is included in the orekit package. \n",
    "\n",
    "The orekit data can also be included in the python project through installation with pip or uv. For this project the orekit data is automatically included."
   ]
  },
  {
   "cell_type": "markdown",
   "metadata": {},
   "source": [
    "# Initiating Orekit in Python"
   ]
  },
  {
   "cell_type": "markdown",
   "metadata": {},
   "source": [
    "Orekit needs to be initiated before used, this starts up the java engine and exposes the orekit classes in python."
   ]
  },
  {
   "cell_type": "markdown",
   "metadata": {},
   "source": [
    "To start up orekit use the initVM() function:"
   ]
  },
  {
   "cell_type": "code",
   "execution_count": 4,
   "metadata": {},
   "outputs": [
    {
     "name": "stdout",
     "output_type": "stream",
     "text": [
      "Python : 3.12.10 (main, Apr  9 2025, 04:03:51) [Clang 20.1.0 ]\n",
      "JPype  : 1.5.0\n",
      "JVM location /usr/lib/jvm/java-11-openjdk-amd64/lib/server/libjvm.so\n",
      "Java version: (11, 0, 26)\n"
     ]
    }
   ],
   "source": [
    "import orekit_jpype, jpype, sys\n",
    "\n",
    "print(\"Python :\", sys.version)\n",
    "print(\"JPype  :\", jpype.__version__)\n",
    "\n",
    "vm = orekit_jpype.initVM()\n",
    "print ('JVM location', jpype.getDefaultJVMPath())\n",
    "jpype.getJVMVersion()\n",
    "print ('Java version:', jpype.getJVMVersion())"
   ]
  },
  {
   "cell_type": "markdown",
   "metadata": {},
   "source": [
    "As mentioned, the orekit library needs a data file with various information on time and earth rotation parameters. A special function setup_orekit_data is used to automatically use the pip installed data files."
   ]
  },
  {
   "cell_type": "code",
   "execution_count": 9,
   "metadata": {},
   "outputs": [],
   "source": [
    "from orekit_jpype.pyhelpers import setup_orekit_data\n",
    "setup_orekit_data()"
   ]
  },
  {
   "cell_type": "markdown",
   "metadata": {},
   "source": [
    "Now we are set up to import and use objects from the orekit library. With the proper initialization, all objects in the orekit java library is exposed to Python and can be imported using normal Python syntax."
   ]
  },
  {
   "cell_type": "code",
   "execution_count": 10,
   "metadata": {},
   "outputs": [],
   "source": [
    "from org.orekit.utils import Constants"
   ]
  },
  {
   "cell_type": "code",
   "execution_count": 11,
   "metadata": {},
   "outputs": [
    {
     "name": "stdout",
     "output_type": "stream",
     "text": [
      "6378137.0\n"
     ]
    }
   ],
   "source": [
    "print (Constants.WGS84_EARTH_EQUATORIAL_RADIUS)"
   ]
  },
  {
   "cell_type": "markdown",
   "metadata": {},
   "source": [
    "SI base units are used in the library, such as seconds, meter, m/s"
   ]
  },
  {
   "cell_type": "markdown",
   "metadata": {},
   "source": [
    "# Documentation"
   ]
  },
  {
   "cell_type": "markdown",
   "metadata": {},
   "source": [
    "One of the best sources of knowledge about orekit and the Python wrapper is on the orekit forum, https://forum.orekit.org/"
   ]
  },
  {
   "cell_type": "markdown",
   "metadata": {},
   "source": [
    "## Orekit API "
   ]
  },
  {
   "cell_type": "markdown",
   "metadata": {},
   "source": [
    "The Python version of orekit is very closely matching the java version and the API documentation from Java can be used. This documentation is available at https://www.orekit.org/doc-javadoc.html\n",
    "\n"
   ]
  },
  {
   "cell_type": "markdown",
   "metadata": {},
   "source": [
    "In addition to the API documentation there are a number of architecture descriptions, based on the Java syntax but highly applicable to the Python side. See https://www.orekit.org/doc-maven.html\n"
   ]
  },
  {
   "cell_type": "markdown",
   "metadata": {},
   "source": [
    "## Subclassing Java classes and Interfaces in Python "
   ]
  },
  {
   "cell_type": "markdown",
   "metadata": {},
   "source": [
    "The orekit_java version of the wrapper does not support subclassing of abstract base classes from the java side. This is a limitation, but this can be circumvented by using the orekit interfaces instead that are supported in jpype. For this we use the decorators JImplements and JOverride."
   ]
  },
  {
   "cell_type": "code",
   "execution_count": 14,
   "metadata": {},
   "outputs": [],
   "source": [
    "from jpype import JImplements, JOverride"
   ]
  },
  {
   "cell_type": "markdown",
   "metadata": {},
   "source": [
    "The class is annotated with which interface it implements, and each required method needs to be implemented and marked with the JOverride annotation."
   ]
  },
  {
   "cell_type": "code",
   "execution_count": 16,
   "metadata": {},
   "outputs": [],
   "source": [
    "from org.orekit.propagation.sampling import OrekitFixedStepHandler\n",
    "\n",
    "\n",
    "@JImplements(OrekitFixedStepHandler)\n",
    "class StepHandler():\n",
    "    \n",
    "    def __init__(self, my_value):\n",
    "        self.my_value = my_value\n",
    "        super(StepHandler, self).__init__()\n",
    "\n",
    "    @JOverride\n",
    "    def init(self, s0, t, step):\n",
    "        pass\n",
    "\n",
    "    @JOverride\n",
    "    def handleStep(self, state):\n",
    "        # your code goes here that is executed for every step\n",
    "        pass\n",
    "\n",
    "    @JOverride\n",
    "    def finish(self, finalState):\n",
    "        pass\n"
   ]
  },
  {
   "cell_type": "markdown",
   "metadata": {},
   "source": [
    "In the example above, note:\n",
    "\n",
    "  - All methods in the class / interface needs to be implemented for java to accept it. If not used, just use a pass statement.\n"
   ]
  },
  {
   "cell_type": "markdown",
   "metadata": {},
   "source": [
    "Note: It is not possible to implement several interfaces to a Python class"
   ]
  },
  {
   "cell_type": "markdown",
   "metadata": {},
   "source": [
    "## init or \\_\\_init\\_\\_ in interfaces"
   ]
  },
  {
   "cell_type": "markdown",
   "metadata": {},
   "source": [
    "The Python function for initializing a class is typically the \\_\\_init\\_\\_(self, ...) method. Several Orekit interfaces and abstract classes have a init() method that is used for similar purposes. In many Interfaces and Abstract classes, the init(...) method needs to be there for it to be an accepted implementation. For the purpose of populating the interface, it is enough in Python to specify an empty method:"
   ]
  },
  {
   "cell_type": "code",
   "execution_count": 17,
   "metadata": {},
   "outputs": [],
   "source": [
    "def init(self):\n",
    "    pass"
   ]
  },
  {
   "cell_type": "markdown",
   "metadata": {},
   "source": [
    "In most practical cases when the class is initialized upon creation, it is suitable to use the more Pythonic \\_\\_init\\_\\_ method instead. "
   ]
  },
  {
   "cell_type": "markdown",
   "metadata": {},
   "source": [
    "## Overloaded Methods / Constructors "
   ]
  },
  {
   "cell_type": "markdown",
   "metadata": {},
   "source": [
    "Python does not have overloaded methods / constructors as in Java. For calls to the Java API this is not a problem as the Java side will try to figure out which method / constructor to use. However, when implementing Java interfaces in Python special care is needed."
   ]
  },
  {
   "cell_type": "markdown",
   "metadata": {},
   "source": [
    "For these classes and interfaces where Orekit uses overloaded methods (methods with same name but different parameters) special care needs to be taken in the Python implementation to make sure which method that the java side is calling. This can be done by checking the types of the input parameters, or by counting the number of parameters provided. For example:"
   ]
  },
  {
   "cell_type": "markdown",
   "metadata": {},
   "source": []
  },
  {
   "cell_type": "code",
   "execution_count": null,
   "metadata": {},
   "outputs": [],
   "source": [
    "from org.orekit.attitudes import PythonGroundPointing\n",
    "from org.orekit.utils import TimeStampedPVCoordinates, TimeStampedFieldPVCoordinates, FieldPVCoordinatesProvider, PVCoordinatesProvider, FieldPVCoordinates, PVCoordinates\n",
    "from typing import Union\n",
    "\n",
    "@JImplements(PythonGroundPointing)\n",
    "class TestGroundPointing():\n",
    "    @JOverride\n",
    "    def getTargetPV(self, pvProv, date, frame) -> Union[TimeStampedPVCoordinates,TimeStampedFieldPVCoordinates]:\n",
    "        match (pvProv):\n",
    "            case FieldPVCoordinatesProvider():\n",
    "                return TimeStampedFieldPVCoordinates(date, FieldPVCoordinates.getZero(date.getField()))\n",
    "            \n",
    "            case PVCoordinatesProvider():\n",
    "                return TimeStampedPVCoordinates(date, PVCoordinates.ZERO)\n",
    "\n",
    "            case _:\n",
    "                raise RuntimeError(f'Not supported type of PVCoordinatesProvider: {type(pvProv).__name__}')\n"
   ]
  },
  {
   "cell_type": "markdown",
   "metadata": {},
   "source": [
    "See full example in test case at: https://github.com/petrushy/orekit_python_artifacts/blob/version-12.0/test/GroundPointingTest.py"
   ]
  },
  {
   "cell_type": "markdown",
   "metadata": {},
   "source": []
  },
  {
   "cell_type": "markdown",
   "metadata": {},
   "source": [
    "## Performance"
   ]
  },
  {
   "cell_type": "markdown",
   "metadata": {},
   "source": [
    "The performance of Python Orekit has not been properly measured compared to a pure Java implementation, but there are performance penalties in the interchange between Python and Java. This interaction reduces the possibility of end-to-end Just-In-Time optimizations. But the effect depends a lot on how it is used, a propagation that is fully performed in the Java side and only configured from the Python side will have a minimal impact - the \"internal\" performance of Orekit is not affected.\n",
    "\n",
    "Frequent callbacks to Python from Java should be avoided for other purposes than prototyping."
   ]
  },
  {
   "cell_type": "markdown",
   "metadata": {},
   "source": [
    "## Pythonic methods "
   ]
  },
  {
   "cell_type": "markdown",
   "metadata": {},
   "source": [
    "Orekit is built with the JCC options to translate Java getters and setters to more \"Pythonic\" class variables. This is performed by detecting .getMethod and .setMethod to simply a .method on the class. Note the change of case as well of first variable. It can be discussed how recommended this is as it provides an addition to the original orekit API. But it can be argued that it does increase readability."
   ]
  },
  {
   "cell_type": "markdown",
   "metadata": {},
   "source": [
    "Example:"
   ]
  },
  {
   "cell_type": "code",
   "execution_count": null,
   "metadata": {},
   "outputs": [
    {
     "name": "stdout",
     "output_type": "stream",
     "text": [
      "2.0 0.0 0.0\n",
      "2.0 0.0 0.0\n"
     ]
    }
   ],
   "source": [
    "from org.hipparchus.geometry.euclidean.threed import Vector3D\n",
    "a = Vector3D(2.0, 0.0, 0.0)\n",
    "print(a.getX(), a.getY(), a.getZ())\n",
    "print(a.x, a.y, a.z)"
   ]
  },
  {
   "cell_type": "markdown",
   "metadata": {},
   "source": [
    "## Variable number of arguments functions"
   ]
  },
  {
   "cell_type": "markdown",
   "metadata": {},
   "source": [
    "Java and Orekit are for some methods using a variable number of inputs, identified as ... in the API. For example the:\n",
    "\n",
    "    BooleanDetector.andCombine(EventDetector... detectors) \n",
    "    \n",
    "method in Java. To use this in Python, the variable arguments are placed in a list [], like: \n",
    "\n",
    "    BooleanDetector.andCombine([illumination_detector, el_detector])"
   ]
  },
  {
   "cell_type": "code",
   "execution_count": null,
   "metadata": {},
   "outputs": [],
   "source": []
  },
  {
   "cell_type": "markdown",
   "metadata": {},
   "source": [
    "*Petrus Hyvönen, 2024*"
   ]
  },
  {
   "cell_type": "markdown",
   "metadata": {},
   "source": []
  }
 ],
 "metadata": {
  "hide_input": false,
  "kernelspec": {
   "display_name": ".venv",
   "language": "python",
   "name": "python3"
  },
  "language_info": {
   "codemirror_mode": {
    "name": "ipython",
    "version": 3
   },
   "file_extension": ".py",
   "mimetype": "text/x-python",
   "name": "python",
   "nbconvert_exporter": "python",
   "pygments_lexer": "ipython3",
   "version": "3.12.10"
  },
  "toc": {
   "base_numbering": 1,
   "nav_menu": {},
   "number_sections": false,
   "sideBar": true,
   "skip_h1_title": false,
   "title_cell": "Table of Contents",
   "title_sidebar": "Contents",
   "toc_cell": false,
   "toc_position": {},
   "toc_section_display": "block",
   "toc_window_display": true
  },
  "widgets": {
   "state": {},
   "version": "1.1.2"
  }
 },
 "nbformat": 4,
 "nbformat_minor": 4
}
